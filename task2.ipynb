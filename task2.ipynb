{
 "cells": [
  {
   "cell_type": "code",
   "execution_count": 134,
   "metadata": {},
   "outputs": [
    {
     "data": {
      "image/png": "[encoded data removed]",
      "text/plain": [
       "<Figure size 432x288 with 1 Axes>"
      ]
     },
     "metadata": {
      "needs_background": "light"
     },
     "output_type": "display_data"
    }
   ],
   "source": [
    "import numpy as np\n",
    "import matplotlib.pyplot as plt\n",
    "import pandas as pd\n",
    "import seaborn as sns\n",
    "\n",
    "\n",
    "dataset = pd.read_csv(\"./drug200.csv\")\n",
    "dataset['Drug'].value_counts().plot(kind='bar')\n",
    "plt.savefig(\"drugset.pdf\")"
   ]
  },
  {
   "cell_type": "code",
   "execution_count": 135,
   "metadata": {},
   "outputs": [
    {
     "name": "stdout",
     "output_type": "stream",
     "text": [
      "     Age  BP  Cholesterol  Na_to_K   Drug  Sex_M\n",
      "0     23   3            3   25.355  drugY      0\n",
      "1     47   1            3   13.093  drugC      1\n",
      "2     47   1            3   10.114  drugC      1\n",
      "3     28   2            3    7.798  drugX      0\n",
      "4     61   1            3   18.043  drugY      0\n",
      "..   ...  ..          ...      ...    ...    ...\n",
      "195   56   1            3   11.567  drugC      0\n",
      "196   16   1            3   12.006  drugC      1\n",
      "197   52   2            3    9.894  drugX      1\n",
      "198   23   2            2   14.020  drugX      1\n",
      "199   40   1            2   11.349  drugX      0\n",
      "\n",
      "[200 rows x 6 columns]\n"
     ]
    }
   ],
   "source": [
    "#sanitizing the ordinal and categorical data into numerical, drop column female to prevent co-linearity\n",
    "\n",
    "drugsData = pd.DataFrame(dataset)\n",
    "\n",
    "ordinalMap = {\n",
    "    \"HIGH\":3,\n",
    "    \"NORMAL\":2,\n",
    "    \"LOW\":1\n",
    "}\n",
    "\n",
    "#mapping ordinal values to numerical\n",
    "drugsData['BP'] = drugsData['BP'].map(ordinalMap)\n",
    "drugsData['Cholesterol'] = drugsData['Cholesterol'].map(ordinalMap)\n",
    "\n",
    "#categorical to numerical through 'get_dummies' method\n",
    "dataset_processed = pd.get_dummies(drugsData, columns=['Sex'])\n",
    "\n",
    "dataset_final = dataset_processed.drop(['Sex_F'], axis ='columns')\n",
    "print(dataset_final)"
   ]
  },
  {
   "cell_type": "code",
   "execution_count": 136,
   "metadata": {},
   "outputs": [],
   "source": [
    "#split data into train and test set\n",
    "\n",
    "from sklearn.model_selection import train_test_split\n",
    "\n",
    "X = dataset_final.drop(['Drug'], axis = 'columns')\n",
    "Y = dataset_final['Drug']\n",
    "\n",
    "X_train, X_test, Y_train, Y_test = train_test_split(X, Y, test_size = 0.2, random_state = 2)"
   ]
  },
  {
   "cell_type": "code",
   "execution_count": 137,
   "metadata": {},
   "outputs": [
    {
     "data": {
      "text/plain": [
       "GaussianNB()"
      ]
     },
     "execution_count": 137,
     "metadata": {},
     "output_type": "execute_result"
    }
   ],
   "source": [
    "#Model 1: Gaussian Naive Bayes\n",
    "\n",
    "from sklearn.naive_bayes import GaussianNB\n",
    "\n",
    "clf_NB = GaussianNB()\n",
    "clf_NB.fit(X_train, Y_train)"
   ]
  },
  {
   "cell_type": "code",
   "execution_count": 138,
   "metadata": {},
   "outputs": [
    {
     "data": {
      "text/plain": [
       "DecisionTreeClassifier()"
      ]
     },
     "execution_count": 138,
     "metadata": {},
     "output_type": "execute_result"
    }
   ],
   "source": [
    "#Model 2: Base Decision Tree\n",
    "\n",
    "from sklearn.tree import DecisionTreeClassifier\n",
    "\n",
    "clf_DT = DecisionTreeClassifier()\n",
    "clf_DT.fit(X_train, Y_train)"
   ]
  },
  {
   "cell_type": "code",
   "execution_count": 139,
   "metadata": {},
   "outputs": [
    {
     "data": {
      "text/plain": [
       "GridSearchCV(estimator=DecisionTreeClassifier(),\n",
       "             param_grid={'criterion': ['gini', 'entropy'],\n",
       "                         'max_depth': [2, 10, 20],\n",
       "                         'min_samples_split': [2, 20, 50]})"
      ]
     },
     "execution_count": 139,
     "metadata": {},
     "output_type": "execute_result"
    }
   ],
   "source": [
    "#Model 3: Top Decision Tree (with parameters)\n",
    "\n",
    "from sklearn.model_selection import GridSearchCV\n",
    "\n",
    "hyper_params1 = {\n",
    "    'criterion':['gini', 'entropy'], \n",
    "    'max_depth': [2,10,20], \n",
    "    'min_samples_split': [2, 20, 50]}\n",
    "\n",
    "clf_TDT = GridSearchCV(DecisionTreeClassifier(), hyper_params)\n",
    "clf_TDT.fit(X_train, Y_train)"
   ]
  },
  {
   "cell_type": "code",
   "execution_count": 140,
   "metadata": {},
   "outputs": [
    {
     "data": {
      "text/plain": [
       "Perceptron()"
      ]
     },
     "execution_count": 140,
     "metadata": {},
     "output_type": "execute_result"
    }
   ],
   "source": [
    "#Model 4: Perceptron\n",
    "\n",
    "from sklearn.linear_model import Perceptron\n",
    "\n",
    "clf_P = Perceptron()\n",
    "clf_P.fit(X_train, Y_train)"
   ]
  },
  {
   "cell_type": "code",
   "execution_count": 141,
   "metadata": {},
   "outputs": [
    {
     "data": {
      "text/plain": [
       "MLPClassifier()"
      ]
     },
     "execution_count": 141,
     "metadata": {},
     "output_type": "execute_result"
    }
   ],
   "source": [
    "#Model 5: Base Multi-Layered Perceptron\n",
    "\n",
    "from sklearn.neural_network import MLPClassifier\n",
    "\n",
    "clf_MLP = MLPClassifier()\n",
    "clf_MLP.fit(X_train, Y_train)"
   ]
  },
  {
   "cell_type": "code",
   "execution_count": null,
   "metadata": {},
   "outputs": [],
   "source": [
    "#Model 6: Top Multi-Layered Perceptron\n",
    "\n",
    "hyper_params2 = {\n",
    "    'hidden_layer_sizes': [(50,50,50), (50,100,50), (100,)],\n",
    "    'activation': ['tanh', 'relu'],\n",
    "    'solver': ['sgd', 'adam'],\n",
    "    'alpha': [0.0001, 0.05],\n",
    "    'learning_rate': ['constant','adaptive'],\n",
    "}\n",
    "\n",
    "clf_TMLP = GridSearchCV(MLPClassifier(), hyper_params2, n_jobs=-1, cv=3)\n",
    "clf_TMLP.fit(X_train, Y_train)"
   ]
  }
 ],
 "metadata": {
  "interpreter": {
   "hash": "fe44fef87f92f48a3a32707d0df204585f471652bc0ce87358a3ce712bc24db0"
  },
  "kernelspec": {
   "display_name": "Python 3.9.7 64-bit",
   "name": "python3"
  },
  "language_info": {
   "codemirror_mode": {
    "name": "ipython",
    "version": 3
   },
   "file_extension": ".py",
   "mimetype": "text/x-python",
   "name": "python",
   "nbconvert_exporter": "python",
   "pygments_lexer": "ipython3",
   "version": "3.9.7"
  },
  "orig_nbformat": 4
 },
 "nbformat": 4,
 "nbformat_minor": 2
}
