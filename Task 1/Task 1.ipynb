{
 "cells": [
  {
   "cell_type": "code",
   "execution_count": 1,
   "id": "5041dc92",
   "metadata": {},
   "outputs": [],
   "source": [
    "DATA_DIR = \"./BBC/\""
   ]
  },
  {
   "cell_type": "code",
   "execution_count": 2,
   "id": "cd9d22b4",
   "metadata": {},
   "outputs": [],
   "source": [
    "%matplotlib inline\n",
    "import numpy as np\n",
    "import matplotlib.pyplot as plt\n",
    "from sklearn.datasets import load_files"
   ]
  },
  {
   "cell_type": "code",
   "execution_count": 3,
   "id": "81287d61",
   "metadata": {},
   "outputs": [],
   "source": [
    "data = load_files(DATA_DIR, encoding=\"latin1\") #returns a scikit \"bunch\", a holder object (accessed like a dict)"
   ]
  },
  {
   "cell_type": "code",
   "execution_count": 4,
   "id": "8ed3222d",
   "metadata": {},
   "outputs": [
    {
     "data": {
      "text/plain": [
       "(array([0, 1, 2, 3, 4]), array([510, 386, 417, 511, 401]))"
      ]
     },
     "execution_count": 4,
     "metadata": {},
     "output_type": "execute_result"
    }
   ],
   "source": [
    "#Calculate count of each category \n",
    "labels, counts = np.unique(data.target, return_counts=True)\n",
    "labels, counts"
   ]
  },
  {
   "cell_type": "code",
   "execution_count": 5,
   "id": "6b06998b",
   "metadata": {},
   "outputs": [
    {
     "name": "stdout",
     "output_type": "stream",
     "text": [
      "{'business': 510, 'entertainment': 386, 'politics': 417, 'sport': 511, 'tech': 401}\n"
     ]
    }
   ],
   "source": [
    "labels_str = np.array(data.target_names)[labels] #convert labels into string labels of subfolders\n",
    "dataDict = dict(zip(labels_str, counts))\n",
    "print(dataDict)"
   ]
  },
  {
   "cell_type": "code",
   "execution_count": 6,
   "id": "80d64bfb",
   "metadata": {},
   "outputs": [
    {
     "data": {
      "image/png": "[encoded data removed]",
      "text/plain": [
       "<Figure size 432x288 with 1 Axes>"
      ]
     },
     "metadata": {
      "needs_background": "light"
     },
     "output_type": "display_data"
    }
   ],
   "source": [
    "plt.bar(range(len(dataDict)), list(dataDict.values()), align='center')\n",
    "plt.xticks(range(len(dataDict)), list(dataDict.keys()))\n",
    "plt.savefig(\"BBC-distribution.pdf\")"
   ]
  },
  {
   "cell_type": "code",
   "execution_count": 7,
   "id": "d1391417",
   "metadata": {},
   "outputs": [],
   "source": [
    "#data preparation "
   ]
  },
  {
   "cell_type": "code",
   "execution_count": 8,
   "id": "36c9348c",
   "metadata": {},
   "outputs": [
    {
     "data": {
      "text/plain": [
       "(2225, 29421)"
      ]
     },
     "execution_count": 8,
     "metadata": {},
     "output_type": "execute_result"
    }
   ],
   "source": [
    "from sklearn.feature_extraction.text import CountVectorizer\n",
    "Vectorizer = CountVectorizer()\n",
    "CountMatrix = Vectorizer.fit_transform(data.data) #builds a matrix of feature/indices and their occurence\n",
    "CountMatrix.shape"
   ]
  },
  {
   "cell_type": "code",
   "execution_count": 9,
   "id": "ec2769f3",
   "metadata": {},
   "outputs": [
    {
     "data": {
      "text/plain": [
       "(1780, 29421)"
      ]
     },
     "execution_count": 9,
     "metadata": {},
     "output_type": "execute_result"
    }
   ],
   "source": [
    "from sklearn.model_selection import train_test_split\n",
    "X_train_vectors, X_test_vectors, y_train_vectors, y_test_vectors = train_test_split(CountMatrix, data.target, train_size=0.80, test_size=0.20, random_state=None)\n",
    "X_train_vectors.shape"
   ]
  },
  {
   "cell_type": "code",
   "execution_count": 10,
   "id": "c0eea0b2",
   "metadata": {},
   "outputs": [
    {
     "data": {
      "text/plain": [
       "MultinomialNB()"
      ]
     },
     "execution_count": 10,
     "metadata": {},
     "output_type": "execute_result"
    }
   ],
   "source": [
    "from sklearn.naive_bayes import MultinomialNB\n",
    "NB_Cls = MultinomialNB()\n",
    "NB_Cls.fit(X_train_vectors, y_train_vectors)"
   ]
  },
  {
   "cell_type": "code",
   "execution_count": 11,
   "id": "d0a313b3",
   "metadata": {},
   "outputs": [
    {
     "name": "stdout",
     "output_type": "stream",
     "text": [
      "0.9730337078651685\n",
      "              precision    recall  f1-score   support\n",
      "\n",
      "           0       0.99      0.93      0.96       111\n",
      "           1       0.97      0.97      0.97        74\n",
      "           2       0.92      1.00      0.96        85\n",
      "           3       1.00      1.00      1.00        89\n",
      "           4       0.98      0.98      0.98        86\n",
      "\n",
      "    accuracy                           0.97       445\n",
      "   macro avg       0.97      0.98      0.97       445\n",
      "weighted avg       0.97      0.97      0.97       445\n",
      "\n"
     ]
    }
   ],
   "source": [
    "from sklearn.metrics import classification_report, accuracy_score\n",
    "y_pred = NB_Cls.predict(X_test_vectors)\n",
    "print(accuracy_score(y_test_vectors, y_pred))\n",
    "print(classification_report(y_test_vectors, y_pred))"
   ]
  }
 ],
 "metadata": {
  "kernelspec": {
   "display_name": "Python 3 (ipykernel)",
   "language": "python",
   "name": "python3"
  },
  "language_info": {
   "codemirror_mode": {
    "name": "ipython",
    "version": 3
   },
   "file_extension": ".py",
   "mimetype": "text/x-python",
   "name": "python",
   "nbconvert_exporter": "python",
   "pygments_lexer": "ipython3",
   "version": "3.9.5"
  }
 },
 "nbformat": 4,
 "nbformat_minor": 5
}
